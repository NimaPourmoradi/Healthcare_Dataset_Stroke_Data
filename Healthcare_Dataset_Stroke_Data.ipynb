{
 "cells": [
  {
   "cell_type": "markdown",
   "id": "63ec483b-7187-4576-ae63-aff41f80e0d2",
   "metadata": {},
   "source": [
    "<p style=\"text-align:center;\"><span style=\"font-size:80px;\"><span style=\"color:navy\"><span style=\"font-family:cursive;\"><span style=\"font-weight:1000\">Hi Everybody 👋</span></span></span></span></p>"
   ]
  },
  {
   "cell_type": "markdown",
   "id": "c2593497-f59a-4cf1-9cfc-11dfb3b241bc",
   "metadata": {},
   "source": [
    "<img src='https://i.postimg.cc/nLrB2Szm/BANNER-IMAGE-1-1520-X560.jpg'>"
   ]
  },
  {
   "cell_type": "markdown",
   "id": "28d9bf17-9d9a-400d-8c00-42559a07bd25",
   "metadata": {},
   "source": [
    "<div style=\"border-radius:10px; padding: 15px; background-color: #e3e6fa; text-align:left; font-size:120%\">\n",
    "\n",
    "<h4 align=\"left\"><span style=\"font-weight:700; font-size:160%\"><font color=#d10202>Description:</font></span></h4>\n",
    "\n",
    "\n"
   ]
  },
  {
   "cell_type": "markdown",
   "id": "5f6775c5-bd74-4c20-bd33-7b9bebfdd0d7",
   "metadata": {},
   "source": [
    "<a id=\"1\"></a>\n",
    "<h1><b><p style=\"background-image: url(https://i.postimg.cc/0Qwf8YX6/2927262.jpg);font-family:camtasia;font-size:110%;color:white;text-align:center;border-radius:15px 50px; padding:7px; border:solid 2px #09375b; box-shadow: 10px 10px 10px #042b4c\"> Table Of Content</p></b></h1>"
   ]
  },
  {
   "cell_type": "markdown",
   "id": "892affe3-9239-4f59-86ae-3e09eb5ab574",
   "metadata": {
    "jp-MarkdownHeadingCollapsed": true
   },
   "source": [
    "<a id=\"content\"></a>    \n",
    "<div style=\"border-radius:20px; padding: 15px; background-color: #f0f2fa; font-size:100%; text-align:left\">\n",
    "\n",
    "<h2><span style=\"text-align:center; font-weight:bolder; color:navy\">Table of Contents:</span></h2>\n",
    "\n",
    " * **[Step 1 | Python Libraries](#setup)**\n",
    "    -  [1.1 | Import Libraries](#import)\n",
    "    -  [1.2 | Library configurations](#config)\n",
    " *  **[Step 2 | Data](#data)**\n",
    "    -  [2.1 | Collecting Data](#load_data)\n",
    "    -  [2.2 | Data Information](#info)\n",
    "    -  [2.3 | Columns Describtion](#columns)\n",
    " *  **[Step 3 | Data Preprocessning](#preprocessing)**\n",
    "    -  [3.1 | Missing Values Handling](#missing)\n",
    "    -  [3.2 | Visualization and Plots](#plot)\n",
    "    -  [3.3 | Missing Values](#missing)\n",
    " *  **[Step 4 | Macine Learning](#ml)**\n",
    "    -  [4.1 | Initializations](#init)\n",
    "    -  [4.2 | Normalization](#normalize)\n",
    "    -  [4.3 | LogisticRegression](#lr)\n",
    "    -  [4.4 | SVC](#svc)\n",
    "    -  [4.5 | DecisionTreeClassifier](#tree)\n",
    "    -  [4.6 | KNeighborsClassifier](#knn)\n",
    "    -  [4.7 | RandomForestClassifier](#rf)\n",
    "    -  [4.8 | result](#result)\n",
    " *  **[Author](#author)**"
   ]
  },
  {
   "cell_type": "markdown",
   "id": "3a3f9da9-92fd-46e3-80ea-c263401ecd36",
   "metadata": {
    "jp-MarkdownHeadingCollapsed": true
   },
   "source": [
    "<a id=\"setup\"></a>\n",
    "<h1><b><p style=\"background-image: url(https://i.postimg.cc/0Qwf8YX6/2927262.jpg);font-family:camtasia;font-size:110%;color:white;text-align:center;border-radius:15px 50px; padding:7px; border:solid 2px #09375b; box-shadow: 10px 10px 10px #042b4c\">Step1 | Python Libraries</p></b></h1>\n",
    "\n",
    "[🏠 Tabel of Contents](#content)"
   ]
  },
  {
   "cell_type": "markdown",
   "id": "b8520703-c11f-4a51-8b58-f830ece2958a",
   "metadata": {},
   "source": [
    "<a id=\"import\"></a>\n",
    "<h2><b><span style=\"color:#0266b7\">Step 1.1 | </span><span style=\"color:#ff6200\">Import Libraries</span></b>"
   ]
  },
  {
   "cell_type": "code",
   "execution_count": 1,
   "id": "13b26024-8f14-4e77-b448-8c9aed66ca57",
   "metadata": {},
   "outputs": [],
   "source": [
    "import pandas as pd\n",
    "import numpy as np\n",
    "import seaborn as sns\n",
    "import matplotlib.pyplot as plt\n",
    "import warnings\n",
    "\n",
    "################### Sklearn ####################################"
   ]
  },
  {
   "cell_type": "markdown",
   "id": "d2133240-dbb0-4628-9a4b-fed75a39bdc6",
   "metadata": {},
   "source": [
    "<a id=\"config\"></a>\n",
    "<h2><b><span style=\"color:#0266b7\">Step 1.2 | </span><span style=\"color:#ff6200\">Library configurations</span></b></h2>"
   ]
  },
  {
   "cell_type": "code",
   "execution_count": 2,
   "id": "e5a1166a-10af-4ded-8fb5-0345df19c3b3",
   "metadata": {},
   "outputs": [],
   "source": [
    "pd.options.mode.copy_on_write = True # Allow re-write on variable\n",
    "sns.set_style('darkgrid') # Seaborn style\n",
    "warnings.filterwarnings('ignore') # Ignore warnings\n",
    "pd.set_option('display.max_columns', None) # Setting this option will print all collumns of a dataframe\n",
    "pd.set_option('display.max_colwidth', None) # Setting this option will print all of the data in a feature"
   ]
  },
  {
   "cell_type": "markdown",
   "id": "74bdf696-6481-4b22-b44c-a71efec5c497",
   "metadata": {},
   "source": [
    "<a id=\"data\"></a>\n",
    "<h1><b><p style=\"background-image: url(https://i.postimg.cc/0Qwf8YX6/2927262.jpg);font-family:camtasia;font-size:110%;color:white;text-align:center;border-radius:15px 50px; padding:7px; border:solid 2px #09375b; box-shadow: 10px 10px 10px #042b4c\">Step 2 | Data</p></b></h1>\n",
    "\n",
    "[🏠 Tabel of Contents](#content)"
   ]
  },
  {
   "cell_type": "markdown",
   "id": "bb47a3bd-2985-46e4-ae99-a8f306a0df7c",
   "metadata": {},
   "source": [
    "<a id=\"load_data\"></a>\n",
    "<h2><b><span style=\"color:#0266b7\">Step 2.1 | </span><span style=\"color:#ff6200\">Collecting Data</span></b></h2>"
   ]
  },
  {
   "cell_type": "code",
   "execution_count": 3,
   "id": "201bbddb-d0f5-4ab3-ac74-71f011585761",
   "metadata": {},
   "outputs": [
    {
     "data": {
      "text/html": [
       "<div>\n",
       "<style scoped>\n",
       "    .dataframe tbody tr th:only-of-type {\n",
       "        vertical-align: middle;\n",
       "    }\n",
       "\n",
       "    .dataframe tbody tr th {\n",
       "        vertical-align: top;\n",
       "    }\n",
       "\n",
       "    .dataframe thead th {\n",
       "        text-align: right;\n",
       "    }\n",
       "</style>\n",
       "<table border=\"1\" class=\"dataframe\">\n",
       "  <thead>\n",
       "    <tr style=\"text-align: right;\">\n",
       "      <th></th>\n",
       "      <th>id</th>\n",
       "      <th>gender</th>\n",
       "      <th>age</th>\n",
       "      <th>hypertension</th>\n",
       "      <th>heart_disease</th>\n",
       "      <th>ever_married</th>\n",
       "      <th>work_type</th>\n",
       "      <th>Residence_type</th>\n",
       "      <th>avg_glucose_level</th>\n",
       "      <th>bmi</th>\n",
       "      <th>smoking_status</th>\n",
       "      <th>stroke</th>\n",
       "    </tr>\n",
       "  </thead>\n",
       "  <tbody>\n",
       "    <tr>\n",
       "      <th>0</th>\n",
       "      <td>9046</td>\n",
       "      <td>Male</td>\n",
       "      <td>67.0</td>\n",
       "      <td>0</td>\n",
       "      <td>1</td>\n",
       "      <td>Yes</td>\n",
       "      <td>Private</td>\n",
       "      <td>Urban</td>\n",
       "      <td>228.69</td>\n",
       "      <td>36.6</td>\n",
       "      <td>formerly smoked</td>\n",
       "      <td>1</td>\n",
       "    </tr>\n",
       "    <tr>\n",
       "      <th>1</th>\n",
       "      <td>51676</td>\n",
       "      <td>Female</td>\n",
       "      <td>61.0</td>\n",
       "      <td>0</td>\n",
       "      <td>0</td>\n",
       "      <td>Yes</td>\n",
       "      <td>Self-employed</td>\n",
       "      <td>Rural</td>\n",
       "      <td>202.21</td>\n",
       "      <td>NaN</td>\n",
       "      <td>never smoked</td>\n",
       "      <td>1</td>\n",
       "    </tr>\n",
       "    <tr>\n",
       "      <th>2</th>\n",
       "      <td>31112</td>\n",
       "      <td>Male</td>\n",
       "      <td>80.0</td>\n",
       "      <td>0</td>\n",
       "      <td>1</td>\n",
       "      <td>Yes</td>\n",
       "      <td>Private</td>\n",
       "      <td>Rural</td>\n",
       "      <td>105.92</td>\n",
       "      <td>32.5</td>\n",
       "      <td>never smoked</td>\n",
       "      <td>1</td>\n",
       "    </tr>\n",
       "    <tr>\n",
       "      <th>3</th>\n",
       "      <td>60182</td>\n",
       "      <td>Female</td>\n",
       "      <td>49.0</td>\n",
       "      <td>0</td>\n",
       "      <td>0</td>\n",
       "      <td>Yes</td>\n",
       "      <td>Private</td>\n",
       "      <td>Urban</td>\n",
       "      <td>171.23</td>\n",
       "      <td>34.4</td>\n",
       "      <td>smokes</td>\n",
       "      <td>1</td>\n",
       "    </tr>\n",
       "    <tr>\n",
       "      <th>4</th>\n",
       "      <td>1665</td>\n",
       "      <td>Female</td>\n",
       "      <td>79.0</td>\n",
       "      <td>1</td>\n",
       "      <td>0</td>\n",
       "      <td>Yes</td>\n",
       "      <td>Self-employed</td>\n",
       "      <td>Rural</td>\n",
       "      <td>174.12</td>\n",
       "      <td>24.0</td>\n",
       "      <td>never smoked</td>\n",
       "      <td>1</td>\n",
       "    </tr>\n",
       "  </tbody>\n",
       "</table>\n",
       "</div>"
      ],
      "text/plain": [
       "      id  gender   age  hypertension  heart_disease ever_married  \\\n",
       "0   9046    Male  67.0             0              1          Yes   \n",
       "1  51676  Female  61.0             0              0          Yes   \n",
       "2  31112    Male  80.0             0              1          Yes   \n",
       "3  60182  Female  49.0             0              0          Yes   \n",
       "4   1665  Female  79.0             1              0          Yes   \n",
       "\n",
       "       work_type Residence_type  avg_glucose_level   bmi   smoking_status  \\\n",
       "0        Private          Urban             228.69  36.6  formerly smoked   \n",
       "1  Self-employed          Rural             202.21   NaN     never smoked   \n",
       "2        Private          Rural             105.92  32.5     never smoked   \n",
       "3        Private          Urban             171.23  34.4           smokes   \n",
       "4  Self-employed          Rural             174.12  24.0     never smoked   \n",
       "\n",
       "   stroke  \n",
       "0       1  \n",
       "1       1  \n",
       "2       1  \n",
       "3       1  \n",
       "4       1  "
      ]
     },
     "execution_count": 3,
     "metadata": {},
     "output_type": "execute_result"
    }
   ],
   "source": [
    "data = pd.read_csv('healthcare-dataset-stroke-data.csv')\n",
    "data.head()"
   ]
  },
  {
   "cell_type": "markdown",
   "id": "e8daac7c-8b13-49ca-9c05-7ec6e80cac01",
   "metadata": {},
   "source": [
    "<a id=\"info\"></a>\n",
    "<h2><b><span style=\"color:#0266b7\">Step 2.2 | </span><span style=\"color:#ff6200\">Data Informations</span></b></h2>"
   ]
  },
  {
   "cell_type": "code",
   "execution_count": 4,
   "id": "5b8d67ab-e84d-4393-9c02-4c3b3fe73462",
   "metadata": {},
   "outputs": [],
   "source": [
    "# Drop column = 'id'\n",
    "data.drop(columns='id', inplace=True)"
   ]
  },
  {
   "cell_type": "code",
   "execution_count": 5,
   "id": "e22b14f2-96f1-4abb-bee4-f262931dceea",
   "metadata": {},
   "outputs": [
    {
     "name": "stdout",
     "output_type": "stream",
     "text": [
      "<class 'pandas.core.frame.DataFrame'>\n",
      "RangeIndex: 5110 entries, 0 to 5109\n",
      "Data columns (total 11 columns):\n",
      " #   Column             Non-Null Count  Dtype  \n",
      "---  ------             --------------  -----  \n",
      " 0   gender             5110 non-null   object \n",
      " 1   age                5110 non-null   float64\n",
      " 2   hypertension       5110 non-null   int64  \n",
      " 3   heart_disease      5110 non-null   int64  \n",
      " 4   ever_married       5110 non-null   object \n",
      " 5   work_type          5110 non-null   object \n",
      " 6   Residence_type     5110 non-null   object \n",
      " 7   avg_glucose_level  5110 non-null   float64\n",
      " 8   bmi                4909 non-null   float64\n",
      " 9   smoking_status     5110 non-null   object \n",
      " 10  stroke             5110 non-null   int64  \n",
      "dtypes: float64(3), int64(3), object(5)\n",
      "memory usage: 439.3+ KB\n"
     ]
    }
   ],
   "source": [
    "data.info()"
   ]
  },
  {
   "cell_type": "code",
   "execution_count": 6,
   "id": "5a3a22a3-b4ae-47d0-91e9-e39a55ad85fe",
   "metadata": {},
   "outputs": [
    {
     "data": {
      "text/html": [
       "<div>\n",
       "<style scoped>\n",
       "    .dataframe tbody tr th:only-of-type {\n",
       "        vertical-align: middle;\n",
       "    }\n",
       "\n",
       "    .dataframe tbody tr th {\n",
       "        vertical-align: top;\n",
       "    }\n",
       "\n",
       "    .dataframe thead th {\n",
       "        text-align: right;\n",
       "    }\n",
       "</style>\n",
       "<table border=\"1\" class=\"dataframe\">\n",
       "  <thead>\n",
       "    <tr style=\"text-align: right;\">\n",
       "      <th></th>\n",
       "      <th>gender</th>\n",
       "      <th>age</th>\n",
       "      <th>hypertension</th>\n",
       "      <th>heart_disease</th>\n",
       "      <th>ever_married</th>\n",
       "      <th>work_type</th>\n",
       "      <th>Residence_type</th>\n",
       "      <th>avg_glucose_level</th>\n",
       "      <th>bmi</th>\n",
       "      <th>smoking_status</th>\n",
       "      <th>stroke</th>\n",
       "    </tr>\n",
       "  </thead>\n",
       "  <tbody>\n",
       "    <tr>\n",
       "      <th>count</th>\n",
       "      <td>5110</td>\n",
       "      <td>5110.00</td>\n",
       "      <td>5110.0</td>\n",
       "      <td>5110.00</td>\n",
       "      <td>5110</td>\n",
       "      <td>5110</td>\n",
       "      <td>5110</td>\n",
       "      <td>5110.00</td>\n",
       "      <td>4909.00</td>\n",
       "      <td>5110</td>\n",
       "      <td>5110.00</td>\n",
       "    </tr>\n",
       "    <tr>\n",
       "      <th>unique</th>\n",
       "      <td>3</td>\n",
       "      <td>NaN</td>\n",
       "      <td>NaN</td>\n",
       "      <td>NaN</td>\n",
       "      <td>2</td>\n",
       "      <td>5</td>\n",
       "      <td>2</td>\n",
       "      <td>NaN</td>\n",
       "      <td>NaN</td>\n",
       "      <td>4</td>\n",
       "      <td>NaN</td>\n",
       "    </tr>\n",
       "    <tr>\n",
       "      <th>top</th>\n",
       "      <td>Female</td>\n",
       "      <td>NaN</td>\n",
       "      <td>NaN</td>\n",
       "      <td>NaN</td>\n",
       "      <td>Yes</td>\n",
       "      <td>Private</td>\n",
       "      <td>Urban</td>\n",
       "      <td>NaN</td>\n",
       "      <td>NaN</td>\n",
       "      <td>never smoked</td>\n",
       "      <td>NaN</td>\n",
       "    </tr>\n",
       "    <tr>\n",
       "      <th>freq</th>\n",
       "      <td>2994</td>\n",
       "      <td>NaN</td>\n",
       "      <td>NaN</td>\n",
       "      <td>NaN</td>\n",
       "      <td>3353</td>\n",
       "      <td>2925</td>\n",
       "      <td>2596</td>\n",
       "      <td>NaN</td>\n",
       "      <td>NaN</td>\n",
       "      <td>1892</td>\n",
       "      <td>NaN</td>\n",
       "    </tr>\n",
       "    <tr>\n",
       "      <th>mean</th>\n",
       "      <td>NaN</td>\n",
       "      <td>43.23</td>\n",
       "      <td>0.1</td>\n",
       "      <td>0.05</td>\n",
       "      <td>NaN</td>\n",
       "      <td>NaN</td>\n",
       "      <td>NaN</td>\n",
       "      <td>106.15</td>\n",
       "      <td>28.89</td>\n",
       "      <td>NaN</td>\n",
       "      <td>0.05</td>\n",
       "    </tr>\n",
       "    <tr>\n",
       "      <th>std</th>\n",
       "      <td>NaN</td>\n",
       "      <td>22.61</td>\n",
       "      <td>0.3</td>\n",
       "      <td>0.23</td>\n",
       "      <td>NaN</td>\n",
       "      <td>NaN</td>\n",
       "      <td>NaN</td>\n",
       "      <td>45.28</td>\n",
       "      <td>7.85</td>\n",
       "      <td>NaN</td>\n",
       "      <td>0.22</td>\n",
       "    </tr>\n",
       "    <tr>\n",
       "      <th>min</th>\n",
       "      <td>NaN</td>\n",
       "      <td>0.08</td>\n",
       "      <td>0.0</td>\n",
       "      <td>0.00</td>\n",
       "      <td>NaN</td>\n",
       "      <td>NaN</td>\n",
       "      <td>NaN</td>\n",
       "      <td>55.12</td>\n",
       "      <td>10.30</td>\n",
       "      <td>NaN</td>\n",
       "      <td>0.00</td>\n",
       "    </tr>\n",
       "    <tr>\n",
       "      <th>25%</th>\n",
       "      <td>NaN</td>\n",
       "      <td>25.00</td>\n",
       "      <td>0.0</td>\n",
       "      <td>0.00</td>\n",
       "      <td>NaN</td>\n",
       "      <td>NaN</td>\n",
       "      <td>NaN</td>\n",
       "      <td>77.24</td>\n",
       "      <td>23.50</td>\n",
       "      <td>NaN</td>\n",
       "      <td>0.00</td>\n",
       "    </tr>\n",
       "    <tr>\n",
       "      <th>50%</th>\n",
       "      <td>NaN</td>\n",
       "      <td>45.00</td>\n",
       "      <td>0.0</td>\n",
       "      <td>0.00</td>\n",
       "      <td>NaN</td>\n",
       "      <td>NaN</td>\n",
       "      <td>NaN</td>\n",
       "      <td>91.88</td>\n",
       "      <td>28.10</td>\n",
       "      <td>NaN</td>\n",
       "      <td>0.00</td>\n",
       "    </tr>\n",
       "    <tr>\n",
       "      <th>75%</th>\n",
       "      <td>NaN</td>\n",
       "      <td>61.00</td>\n",
       "      <td>0.0</td>\n",
       "      <td>0.00</td>\n",
       "      <td>NaN</td>\n",
       "      <td>NaN</td>\n",
       "      <td>NaN</td>\n",
       "      <td>114.09</td>\n",
       "      <td>33.10</td>\n",
       "      <td>NaN</td>\n",
       "      <td>0.00</td>\n",
       "    </tr>\n",
       "    <tr>\n",
       "      <th>max</th>\n",
       "      <td>NaN</td>\n",
       "      <td>82.00</td>\n",
       "      <td>1.0</td>\n",
       "      <td>1.00</td>\n",
       "      <td>NaN</td>\n",
       "      <td>NaN</td>\n",
       "      <td>NaN</td>\n",
       "      <td>271.74</td>\n",
       "      <td>97.60</td>\n",
       "      <td>NaN</td>\n",
       "      <td>1.00</td>\n",
       "    </tr>\n",
       "  </tbody>\n",
       "</table>\n",
       "</div>"
      ],
      "text/plain": [
       "        gender      age  hypertension  heart_disease ever_married work_type  \\\n",
       "count     5110  5110.00        5110.0        5110.00         5110      5110   \n",
       "unique       3      NaN           NaN            NaN            2         5   \n",
       "top     Female      NaN           NaN            NaN          Yes   Private   \n",
       "freq      2994      NaN           NaN            NaN         3353      2925   \n",
       "mean       NaN    43.23           0.1           0.05          NaN       NaN   \n",
       "std        NaN    22.61           0.3           0.23          NaN       NaN   \n",
       "min        NaN     0.08           0.0           0.00          NaN       NaN   \n",
       "25%        NaN    25.00           0.0           0.00          NaN       NaN   \n",
       "50%        NaN    45.00           0.0           0.00          NaN       NaN   \n",
       "75%        NaN    61.00           0.0           0.00          NaN       NaN   \n",
       "max        NaN    82.00           1.0           1.00          NaN       NaN   \n",
       "\n",
       "       Residence_type  avg_glucose_level      bmi smoking_status   stroke  \n",
       "count            5110            5110.00  4909.00           5110  5110.00  \n",
       "unique              2                NaN      NaN              4      NaN  \n",
       "top             Urban                NaN      NaN   never smoked      NaN  \n",
       "freq             2596                NaN      NaN           1892      NaN  \n",
       "mean              NaN             106.15    28.89            NaN     0.05  \n",
       "std               NaN              45.28     7.85            NaN     0.22  \n",
       "min               NaN              55.12    10.30            NaN     0.00  \n",
       "25%               NaN              77.24    23.50            NaN     0.00  \n",
       "50%               NaN              91.88    28.10            NaN     0.00  \n",
       "75%               NaN             114.09    33.10            NaN     0.00  \n",
       "max               NaN             271.74    97.60            NaN     1.00  "
      ]
     },
     "execution_count": 6,
     "metadata": {},
     "output_type": "execute_result"
    }
   ],
   "source": [
    "round(data.describe(include='all'), 2)"
   ]
  },
  {
   "cell_type": "markdown",
   "id": "4750250b-9eaf-43fe-b9cf-be1c82c44dff",
   "metadata": {},
   "source": [
    "<a id=\"columns\"></a>\n",
    "<h2><b><span style=\"color:#0266b7\">Step 2.3 | </span><span style=\"color:#ff6200\">Columns Describtion</span></b></h2>"
   ]
  },
  {
   "cell_type": "markdown",
   "id": "96a5d635-45bc-4ee7-8bef-753a51928848",
   "metadata": {},
   "source": [
    "<div>\n",
    "    <h2>Healthcare Dataset Stroke</h2>\n",
    "    <h4>Columns Describtion :</h4>\n",
    "<center>\n",
    "\n",
    "|Feature|Describtion|\n",
    "|:-----:|:---------:|\n",
    "|gender|Gender of samples(male/female)|\n",
    "|age|Age of samples|\n",
    "|hypertension|Does the sample have a blood pressure problem?|\n",
    "|heart_disease|Does the sample have heart desease?|\n",
    "|ever_married|Has the sample ever been married?|\n",
    "|work_type|What is the type of sample work?|\n",
    "|Residence_type|Where the sample live?(urban/rural)|\n",
    "|avg_glucose_level|What is the average of glucose level of sample blood?|\n",
    "|bmi|Body Mass Index (BMI)|\n",
    "|smoking_status|Does the sample smoke?|\n",
    "|stroke|Has the sample had a stroke?|\n",
    "\n",
    "</center>\n",
    "    \n",
    "</div>"
   ]
  },
  {
   "cell_type": "markdown",
   "id": "9f81476a-90d6-49e1-a8fb-63495f05336f",
   "metadata": {},
   "source": [
    "<a id=\"preprocessing\"></a>\n",
    "<h1><b><p style=\"background-image: url(https://i.postimg.cc/0Qwf8YX6/2927262.jpg);font-family:camtasia;font-size:110%;color:white;text-align:center;border-radius:15px 50px; padding:7px; border:solid 2px #09375b; box-shadow: 10px 10px 10px #042b4c\">Step 3 | Data Preprocessning</p></b></h1>\n",
    "\n",
    "[🏠 Tabel of Contents](#content)"
   ]
  },
  {
   "cell_type": "markdown",
   "id": "fc38197e-41e5-4d0a-bca3-ec41932f08be",
   "metadata": {},
   "source": [
    "<a id=\"missing\"></a>\n",
    "<h2><b><span style=\"color:#0266b7\">Step 3.1 | </span><span style=\"color:#ff6200\">Missing Values Handling</span></b></h2>"
   ]
  },
  {
   "cell_type": "code",
   "execution_count": 7,
   "id": "a7d567c6-353e-4ee1-ab61-a87f3be9ef3c",
   "metadata": {},
   "outputs": [
    {
     "data": {
      "text/plain": [
       "gender                 0\n",
       "age                    0\n",
       "hypertension           0\n",
       "heart_disease          0\n",
       "ever_married           0\n",
       "work_type              0\n",
       "Residence_type         0\n",
       "avg_glucose_level      0\n",
       "bmi                  201\n",
       "smoking_status         0\n",
       "stroke                 0\n",
       "dtype: int64"
      ]
     },
     "execution_count": 7,
     "metadata": {},
     "output_type": "execute_result"
    }
   ],
   "source": [
    "data.isna().sum()"
   ]
  },
  {
   "cell_type": "code",
   "execution_count": 8,
   "id": "110b4e2f-4d23-4d8f-ae1e-e9955be2b560",
   "metadata": {},
   "outputs": [
    {
     "name": "stdout",
     "output_type": "stream",
     "text": [
      "gender               0.000000\n",
      "age                  0.000000\n",
      "hypertension         0.000000\n",
      "heart_disease        0.000000\n",
      "ever_married         0.000000\n",
      "work_type            0.000000\n",
      "Residence_type       0.000000\n",
      "avg_glucose_level    0.000000\n",
      "bmi                  3.933464\n",
      "smoking_status       0.000000\n",
      "stroke               0.000000\n",
      "dtype: float64\n"
     ]
    }
   ],
   "source": [
    "print((data.isna().sum()/len(data))*100)"
   ]
  },
  {
   "cell_type": "code",
   "execution_count": 9,
   "id": "1f07fc94-f381-4d3e-bf3d-d8baeda71ff7",
   "metadata": {},
   "outputs": [],
   "source": [
    "### Missing values in BMI columns is about 4% , we drop them.\n",
    "data.dropna(how='any', inplace=True)"
   ]
  },
  {
   "cell_type": "markdown",
   "id": "b601e0c9-3735-4ff0-b4fa-a75d50eb485b",
   "metadata": {},
   "source": [
    "<a id=\"missing\"></a>\n",
    "<h2><b><span style=\"color:#0266b7\">Step 3.2 | </span><span style=\"color:#ff6200\">Visualization and Plots</span></b></h2>"
   ]
  },
  {
   "cell_type": "code",
   "execution_count": 10,
   "id": "bee24609-0b5c-4b32-9d0d-8873969bc018",
   "metadata": {},
   "outputs": [
    {
     "data": {
      "text/plain": [
       "Index(['gender', 'age', 'hypertension', 'heart_disease', 'ever_married',\n",
       "       'work_type', 'Residence_type', 'avg_glucose_level', 'bmi',\n",
       "       'smoking_status'],\n",
       "      dtype='object')"
      ]
     },
     "execution_count": 10,
     "metadata": {},
     "output_type": "execute_result"
    }
   ],
   "source": [
    "cols = data.columns[:-1]\n",
    "cols"
   ]
  },
  {
   "cell_type": "code",
   "execution_count": 11,
   "id": "67a3ca99-9c9a-4ad4-81aa-d5c791f87fd1",
   "metadata": {},
   "outputs": [],
   "source": [
    "# kdeplot, boxplot"
   ]
  },
  {
   "cell_type": "code",
   "execution_count": 12,
   "id": "2eda5961-74cb-4b56-8d8c-6d17e021dccf",
   "metadata": {},
   "outputs": [
    {
     "data": {
      "text/html": [
       "<div>\n",
       "<style scoped>\n",
       "    .dataframe tbody tr th:only-of-type {\n",
       "        vertical-align: middle;\n",
       "    }\n",
       "\n",
       "    .dataframe tbody tr th {\n",
       "        vertical-align: top;\n",
       "    }\n",
       "\n",
       "    .dataframe thead th {\n",
       "        text-align: right;\n",
       "    }\n",
       "</style>\n",
       "<table border=\"1\" class=\"dataframe\">\n",
       "  <thead>\n",
       "    <tr style=\"text-align: right;\">\n",
       "      <th></th>\n",
       "      <th>gender</th>\n",
       "      <th>age</th>\n",
       "      <th>hypertension</th>\n",
       "      <th>heart_disease</th>\n",
       "      <th>ever_married</th>\n",
       "      <th>work_type</th>\n",
       "      <th>Residence_type</th>\n",
       "      <th>avg_glucose_level</th>\n",
       "      <th>bmi</th>\n",
       "      <th>smoking_status</th>\n",
       "      <th>stroke</th>\n",
       "    </tr>\n",
       "  </thead>\n",
       "  <tbody>\n",
       "    <tr>\n",
       "      <th>0</th>\n",
       "      <td>Male</td>\n",
       "      <td>67.0</td>\n",
       "      <td>0</td>\n",
       "      <td>1</td>\n",
       "      <td>Yes</td>\n",
       "      <td>Private</td>\n",
       "      <td>Urban</td>\n",
       "      <td>228.69</td>\n",
       "      <td>36.6</td>\n",
       "      <td>formerly smoked</td>\n",
       "      <td>1</td>\n",
       "    </tr>\n",
       "    <tr>\n",
       "      <th>2</th>\n",
       "      <td>Male</td>\n",
       "      <td>80.0</td>\n",
       "      <td>0</td>\n",
       "      <td>1</td>\n",
       "      <td>Yes</td>\n",
       "      <td>Private</td>\n",
       "      <td>Rural</td>\n",
       "      <td>105.92</td>\n",
       "      <td>32.5</td>\n",
       "      <td>never smoked</td>\n",
       "      <td>1</td>\n",
       "    </tr>\n",
       "    <tr>\n",
       "      <th>3</th>\n",
       "      <td>Female</td>\n",
       "      <td>49.0</td>\n",
       "      <td>0</td>\n",
       "      <td>0</td>\n",
       "      <td>Yes</td>\n",
       "      <td>Private</td>\n",
       "      <td>Urban</td>\n",
       "      <td>171.23</td>\n",
       "      <td>34.4</td>\n",
       "      <td>smokes</td>\n",
       "      <td>1</td>\n",
       "    </tr>\n",
       "    <tr>\n",
       "      <th>4</th>\n",
       "      <td>Female</td>\n",
       "      <td>79.0</td>\n",
       "      <td>1</td>\n",
       "      <td>0</td>\n",
       "      <td>Yes</td>\n",
       "      <td>Self-employed</td>\n",
       "      <td>Rural</td>\n",
       "      <td>174.12</td>\n",
       "      <td>24.0</td>\n",
       "      <td>never smoked</td>\n",
       "      <td>1</td>\n",
       "    </tr>\n",
       "    <tr>\n",
       "      <th>5</th>\n",
       "      <td>Male</td>\n",
       "      <td>81.0</td>\n",
       "      <td>0</td>\n",
       "      <td>0</td>\n",
       "      <td>Yes</td>\n",
       "      <td>Private</td>\n",
       "      <td>Urban</td>\n",
       "      <td>186.21</td>\n",
       "      <td>29.0</td>\n",
       "      <td>formerly smoked</td>\n",
       "      <td>1</td>\n",
       "    </tr>\n",
       "    <tr>\n",
       "      <th>...</th>\n",
       "      <td>...</td>\n",
       "      <td>...</td>\n",
       "      <td>...</td>\n",
       "      <td>...</td>\n",
       "      <td>...</td>\n",
       "      <td>...</td>\n",
       "      <td>...</td>\n",
       "      <td>...</td>\n",
       "      <td>...</td>\n",
       "      <td>...</td>\n",
       "      <td>...</td>\n",
       "    </tr>\n",
       "    <tr>\n",
       "      <th>5104</th>\n",
       "      <td>Female</td>\n",
       "      <td>13.0</td>\n",
       "      <td>0</td>\n",
       "      <td>0</td>\n",
       "      <td>No</td>\n",
       "      <td>children</td>\n",
       "      <td>Rural</td>\n",
       "      <td>103.08</td>\n",
       "      <td>18.6</td>\n",
       "      <td>Unknown</td>\n",
       "      <td>0</td>\n",
       "    </tr>\n",
       "    <tr>\n",
       "      <th>5106</th>\n",
       "      <td>Female</td>\n",
       "      <td>81.0</td>\n",
       "      <td>0</td>\n",
       "      <td>0</td>\n",
       "      <td>Yes</td>\n",
       "      <td>Self-employed</td>\n",
       "      <td>Urban</td>\n",
       "      <td>125.20</td>\n",
       "      <td>40.0</td>\n",
       "      <td>never smoked</td>\n",
       "      <td>0</td>\n",
       "    </tr>\n",
       "    <tr>\n",
       "      <th>5107</th>\n",
       "      <td>Female</td>\n",
       "      <td>35.0</td>\n",
       "      <td>0</td>\n",
       "      <td>0</td>\n",
       "      <td>Yes</td>\n",
       "      <td>Self-employed</td>\n",
       "      <td>Rural</td>\n",
       "      <td>82.99</td>\n",
       "      <td>30.6</td>\n",
       "      <td>never smoked</td>\n",
       "      <td>0</td>\n",
       "    </tr>\n",
       "    <tr>\n",
       "      <th>5108</th>\n",
       "      <td>Male</td>\n",
       "      <td>51.0</td>\n",
       "      <td>0</td>\n",
       "      <td>0</td>\n",
       "      <td>Yes</td>\n",
       "      <td>Private</td>\n",
       "      <td>Rural</td>\n",
       "      <td>166.29</td>\n",
       "      <td>25.6</td>\n",
       "      <td>formerly smoked</td>\n",
       "      <td>0</td>\n",
       "    </tr>\n",
       "    <tr>\n",
       "      <th>5109</th>\n",
       "      <td>Female</td>\n",
       "      <td>44.0</td>\n",
       "      <td>0</td>\n",
       "      <td>0</td>\n",
       "      <td>Yes</td>\n",
       "      <td>Govt_job</td>\n",
       "      <td>Urban</td>\n",
       "      <td>85.28</td>\n",
       "      <td>26.2</td>\n",
       "      <td>Unknown</td>\n",
       "      <td>0</td>\n",
       "    </tr>\n",
       "  </tbody>\n",
       "</table>\n",
       "<p>4909 rows × 11 columns</p>\n",
       "</div>"
      ],
      "text/plain": [
       "      gender   age  hypertension  heart_disease ever_married      work_type  \\\n",
       "0       Male  67.0             0              1          Yes        Private   \n",
       "2       Male  80.0             0              1          Yes        Private   \n",
       "3     Female  49.0             0              0          Yes        Private   \n",
       "4     Female  79.0             1              0          Yes  Self-employed   \n",
       "5       Male  81.0             0              0          Yes        Private   \n",
       "...      ...   ...           ...            ...          ...            ...   \n",
       "5104  Female  13.0             0              0           No       children   \n",
       "5106  Female  81.0             0              0          Yes  Self-employed   \n",
       "5107  Female  35.0             0              0          Yes  Self-employed   \n",
       "5108    Male  51.0             0              0          Yes        Private   \n",
       "5109  Female  44.0             0              0          Yes       Govt_job   \n",
       "\n",
       "     Residence_type  avg_glucose_level   bmi   smoking_status  stroke  \n",
       "0             Urban             228.69  36.6  formerly smoked       1  \n",
       "2             Rural             105.92  32.5     never smoked       1  \n",
       "3             Urban             171.23  34.4           smokes       1  \n",
       "4             Rural             174.12  24.0     never smoked       1  \n",
       "5             Urban             186.21  29.0  formerly smoked       1  \n",
       "...             ...                ...   ...              ...     ...  \n",
       "5104          Rural             103.08  18.6          Unknown       0  \n",
       "5106          Urban             125.20  40.0     never smoked       0  \n",
       "5107          Rural              82.99  30.6     never smoked       0  \n",
       "5108          Rural             166.29  25.6  formerly smoked       0  \n",
       "5109          Urban              85.28  26.2          Unknown       0  \n",
       "\n",
       "[4909 rows x 11 columns]"
      ]
     },
     "execution_count": 12,
     "metadata": {},
     "output_type": "execute_result"
    }
   ],
   "source": [
    "data"
   ]
  },
  {
   "cell_type": "code",
   "execution_count": 13,
   "id": "f96aa49c-4c0a-46f3-865b-ccb6ff9f21a9",
   "metadata": {},
   "outputs": [],
   "source": [
    "numeric_columns = ['age', 'bmi']\n",
    "categorical_columns = ['gender', 'hypertension', 'heart_disease', 'ever_married', 'work_type', 'avg_glucose_level', 'smoking_status', 'stroke']"
   ]
  },
  {
   "cell_type": "code",
   "execution_count": 80,
   "id": "63304253-fc52-48ec-8b99-21c711fa2dc3",
   "metadata": {},
   "outputs": [
    {
     "data": {
      "image/png": "[encoded data removed]",
      "text/plain": [
       "<Figure size 1500x600 with 6 Axes>"
      ]
     },
     "metadata": {},
     "output_type": "display_data"
    }
   ],
   "source": [
    "i = 0\n",
    "fig, ax = plt.subplots(2, 3, figsize=(15, 6))\n",
    "plt.subplots_adjust(hspace = 0.5)\n",
    "for num_col in numeric_columns :\n",
    "    plt.suptitle(num_col, fontsize=25, fontweight='bold')\n",
    "    sns.kdeplot(x=num_col, hue='stroke', data=data, multiple='stack', ax=ax[i,0])\n",
    "    sns.boxplot(x=num_col, data=data, ax=ax[i, 1])\n",
    "    sns.scatterplot(x=num_col, y='stroke', data=data, ax=ax[i, 2])\n",
    "    i+=1\n",
    "plt.show()"
   ]
  },
  {
   "cell_type": "code",
   "execution_count": 121,
   "id": "c37eec11-7a3b-4ac5-b11e-194bf786951e",
   "metadata": {},
   "outputs": [
    {
     "data": {
      "image/png": "[encoded data removed]",
      "text/plain": [
       "<Figure size 1000x2000 with 8 Axes>"
      ]
     },
     "metadata": {},
     "output_type": "display_data"
    }
   ],
   "source": [
    "i=0\n",
    "j=0\n",
    "fig, ax = plt.subplots(4, 2, figsize=(10, 20))\n",
    "# plt.subplots_adjust(hspace = 0.5)\n",
    "for cat_col in categorical_columns[:5]:\n",
    "    if j<2 :\n",
    "        # AX1\n",
    "        sns.countplot(x=cat_col, data=data, ax=ax[i, j])\n",
    "        j=+1\n",
    "    else :\n",
    "        i=+1\n",
    "        j=0\n",
    "        sns.countplot(x=cat_col, data=data, ax=ax[i, j])"
   ]
  },
  {
   "cell_type": "code",
   "execution_count": 126,
   "id": "485e67ef-2624-4067-8187-df57abfc434a",
   "metadata": {},
   "outputs": [
    {
     "name": "stdout",
     "output_type": "stream",
     "text": [
      "gender\n",
      "hypertension\n",
      "heart_disease\n",
      "ever_married\n",
      "work_type\n",
      "avg_glucose_level\n",
      "smoking_status\n",
      "stroke\n"
     ]
    },
    {
     "data": {
      "image/png": "[encoded data removed]",
      "text/plain": [
       "<Figure size 1000x1000 with 8 Axes>"
      ]
     },
     "metadata": {},
     "output_type": "display_data"
    }
   ],
   "source": [
    "i=0\n",
    "fig, ax = plt.subplots(8, 1, figsize=(10, 10))\n",
    "# plt.subplots_adjust(hspace = 0.5)\n",
    "for cat_col in categorical_columns:\n",
    "        print(cat_col)\n",
    "        sns.countplot(x=cat_col, data=data, ax=ax[i])\n",
    "\n",
    "        i=+1"
   ]
  },
  {
   "cell_type": "code",
   "execution_count": null,
   "id": "9c8f8bb5-ffbf-44b5-b33b-dea1ff4dd4bf",
   "metadata": {},
   "outputs": [],
   "source": []
  },
  {
   "cell_type": "code",
   "execution_count": null,
   "id": "975e5cf5-f022-4298-9b70-ecde7f227111",
   "metadata": {},
   "outputs": [],
   "source": []
  },
  {
   "cell_type": "code",
   "execution_count": null,
   "id": "eef34a90-dddb-4d0d-8c63-896fd5add5c8",
   "metadata": {},
   "outputs": [],
   "source": []
  },
  {
   "cell_type": "code",
   "execution_count": null,
   "id": "282472de-c51d-45f6-8d34-7e4b8924f218",
   "metadata": {},
   "outputs": [],
   "source": []
  },
  {
   "cell_type": "code",
   "execution_count": null,
   "id": "1b225b16-194b-4a8a-9a49-badf9cc895d2",
   "metadata": {},
   "outputs": [],
   "source": []
  },
  {
   "cell_type": "code",
   "execution_count": null,
   "id": "76c17848-de66-4a21-ac2f-697bb8210100",
   "metadata": {},
   "outputs": [],
   "source": []
  },
  {
   "cell_type": "code",
   "execution_count": null,
   "id": "2b93f206-1d82-4cac-a40b-a68725e08ef9",
   "metadata": {},
   "outputs": [],
   "source": []
  },
  {
   "cell_type": "markdown",
   "id": "9e86f9d4-b946-4234-832b-2dba9b32b4d1",
   "metadata": {},
   "source": [
    "<a id=\"author\"></a>    \n",
    "<div style=\"border-radius:10px; padding: 15px; background-color: #f0f2fa; font-size:130%; text-align:left\">\n",
    "\n",
    "<h4 align=\"left\"><span style=\"font-weight:700; font-size:130%\"><font color=#d10202>Author:</font><font color=navy> Nima Pourmoradi</font></span></h4>\n",
    "<h6 align=\"left\"><font color=#ff6200><a href='https://github.com/NimaPourmoradi'>github: https://github.com/NimaPourmoradi</font></h6>\n",
    "<h6 align=\"left\"><font color=#ff6200><a href='https://www.kaggle.com/nimapourmoradi'>kaggle : https://www.kaggle.com/nimapourmoradi</a></font></h6>\n",
    "<h6 align=\"left\"><font color=#ff6200><a href='https://www.linkedin.com/in/nima-pourmoradi-081949288/'>linkedin : www.linkedin.com/in/nima-pourmoradi</a></font></h6>"
   ]
  }
 ],
 "metadata": {
  "kernelspec": {
   "display_name": "Python 3 (ipykernel)",
   "language": "python",
   "name": "python3"
  },
  "language_info": {
   "codemirror_mode": {
    "name": "ipython",
    "version": 3
   },
   "file_extension": ".py",
   "mimetype": "text/x-python",
   "name": "python",
   "nbconvert_exporter": "python",
   "pygments_lexer": "ipython3",
   "version": "3.11.3"
  }
 },
 "nbformat": 4,
 "nbformat_minor": 5
}
